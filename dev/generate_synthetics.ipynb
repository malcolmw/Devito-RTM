{
 "cells": [
  {
   "cell_type": "code",
   "execution_count": null,
   "metadata": {
    "tags": []
   },
   "outputs": [],
   "source": [
    "import devito\n",
    "import examples.seismic\n",
    "import hdf5eis\n",
    "import matplotlib as mpl\n",
    "import matplotlib.pyplot as plt\n",
    "import numpy as np\n",
    "import pandas as pd\n",
    "import scipy.ndimage\n",
    "import scipy.signal\n",
    "\n",
    "FLOAT_DTYPE = np.float32\n",
    "\n",
    "def plot_field(field, src_coords=None, it=None, z_positive_down=False, amax=None, cmap=plt.get_cmap('seismic')):\n",
    "    \n",
    "    x0, y0, z0 = field.grid.origin\n",
    "    nx, ny, nz = field.grid.shape\n",
    "    dx, dy, dz = field.grid.spacing\n",
    "    xx, yy, zz = np.meshgrid(\n",
    "        x0 + np.arange(nx)*dx,\n",
    "        y0 + np.arange(ny)*dy,\n",
    "        z0 + np.arange(nz)*dz,\n",
    "        indexing='ij'\n",
    "    )\n",
    "\n",
    "    if src_coords is None:\n",
    "        ix = nx//2\n",
    "        iy = ny//2\n",
    "        iz = nz//2\n",
    "        src_coords = np.array([x0+(ix-1)*dx, y0+(iy-1)*dy, z0+(iz-1)*dz])\n",
    "    else:\n",
    "        ix, iy, iz = np.round(\n",
    "            (src_coords - field.grid.origin) / field.grid.spacing\n",
    "        ).astype(int)\n",
    "    data = field.data if it is None else field.data[it]\n",
    "\n",
    "    x_range = dx*(nx-1)\n",
    "    y_range = dy*(ny-1)\n",
    "    z_range = dz*(nz-1)\n",
    "    w = [x_range/(x_range+z_range), z_range/(x_range+z_range)]\n",
    "    h = [y_range/(y_range+z_range), z_range/(y_range+z_range)]\n",
    "    gs = mpl.gridspec.GridSpec(2, 2, width_ratios=w, height_ratios=h)\n",
    "    fig = plt.figure()\n",
    "    ax_xy = fig.add_subplot(gs[0, 0], aspect=1, anchor='SE')\n",
    "    ax_yz = fig.add_subplot(gs[0, 1], aspect=1, sharey=ax_xy, anchor='SW')\n",
    "    ax_xz = fig.add_subplot(gs[1, 0], aspect=1, sharex=ax_xy, anchor='NE')\n",
    "    plt.subplots_adjust(hspace=0, wspace=0)\n",
    "\n",
    "\n",
    "    if amax is None:\n",
    "        amax = np.max([\n",
    "            np.max(np.abs(data[ix])),\n",
    "            np.max(np.abs(data[:, iy])),\n",
    "            np.max(np.abs(data[:, :, iz])),\n",
    "        ])\n",
    "    kwargs = dict(\n",
    "        vmin=-amax,\n",
    "        vmax=amax,\n",
    "        cmap=cmap\n",
    "    )\n",
    "    ax_xy.pcolormesh(\n",
    "        xx[:, :, iz],\n",
    "        yy[:, :, iz],\n",
    "        data[:, :, iz],\n",
    "        **kwargs\n",
    "    )\n",
    "    ax_xz.pcolormesh(\n",
    "        xx[:, iy],\n",
    "        zz[:, iy],\n",
    "        data[:, iy],\n",
    "        **kwargs\n",
    "    )\n",
    "    ax_yz.pcolormesh(\n",
    "        zz[ix],\n",
    "        yy[ix],\n",
    "        data[ix],\n",
    "        **kwargs\n",
    "    )\n",
    "    for ax, vline, hline in zip(\n",
    "        (ax_xy, ax_xz, ax_yz),\n",
    "        src_coords[[0, 0, 2]],\n",
    "        src_coords[[1, 2, 1]]\n",
    "    ):\n",
    "        ax.axvline(vline, color='k', linewidth=1)\n",
    "        ax.axhline(hline, color='k', linewidth=1)\n",
    "        \n",
    "    ax_xy.xaxis.tick_top()\n",
    "    ax_yz.xaxis.tick_top()\n",
    "    ax_yz.yaxis.tick_right()\n",
    "    if z_positive_down is True:\n",
    "        ax_xz.invert_yaxis()\n",
    "    else:\n",
    "        ax_yz.invert_xaxis()\n",
    "\n",
    "    return dict(\n",
    "        ax_xy=ax_xy,\n",
    "        ax_xz=ax_xz,\n",
    "        ax_yz=ax_yz\n",
    "    )"
   ]
  },
  {
   "cell_type": "markdown",
   "metadata": {},
   "source": [
    "## Define the physical model domain"
   ]
  },
  {
   "cell_type": "code",
   "execution_count": null,
   "metadata": {
    "tags": []
   },
   "outputs": [],
   "source": [
    "network = pd.read_hdf('../data/network.hdf5')\n",
    "network = network.drop_duplicates(subset=['network', 'station'])\n",
    "network['z'] = network['elevation'] - network['depth']"
   ]
  },
  {
   "cell_type": "code",
   "execution_count": null,
   "metadata": {
    "tags": []
   },
   "outputs": [],
   "source": [
    "f0          = 32   # Peak frequency (in Hz) of Ricker wavelet source\n",
    "v_min       = 1000 # Minimum wavespeed in m/s\n",
    "v_max       = 1000\n",
    "f_max       = f0\n",
    "h_max       = v_min / f_max / 10\n",
    "nbl         = 20          # Number of absorbing boundary layers.\n",
    "bcs         = \"damp\"      # Abosrbing boundary type.\n",
    "space_order = 8\n",
    "time_order  = 2\n",
    "dt          = 0.49 * h_max / v_max\n",
    "\n",
    "# x_min, y_min, z_min = 0, 0, 0\n",
    "# x_max, y_max, z_max = 2e3, 2e3, 2e3\n",
    "x_min, y_min = network[['easting', 'northing']].min()\n",
    "x_max, y_max, z_max = network[['easting', 'northing', 'z']].max()\n",
    "z_min = z_max - 0.5*np.max([(x_max - x_min), (y_max-y_min)])\n",
    "\n",
    "dx, dy, dz          = h_max, h_max, h_max\n",
    "x_pad, y_pad, z_pad = 40, 40, 40\n",
    "nx, ny, nz          = (np.ceil(\n",
    "    [x_max-x_min, y_max-y_min, z_max-z_min]\n",
    ") / np.array([dx, dy, dz])).astype(int) + 1\n",
    "\n",
    "# Grid spacing in m.\n",
    "spacing = (h_max, h_max, h_max)\n",
    "\n",
    "# Number of grid points (nx, nz).\n",
    "shape = (\n",
    "    nx+2*x_pad, \n",
    "    ny+2*y_pad, \n",
    "    nz+2*z_pad\n",
    ")\n",
    "\n",
    "# What is the location of the top left corner.\n",
    "origin = (\n",
    "    x_min-x_pad*dx, \n",
    "    y_min-y_pad*dy, \n",
    "    z_min-z_pad*dz\n",
    ")\n",
    "\n",
    "\n",
    "\n",
    "v = v_min * 1e-3 * np.ones(shape, dtype=FLOAT_DTYPE)\n",
    "# v += np.abs(scipy.ndimage.gaussian_filter(np.random.randn(*shape), 2))\n",
    "\n",
    "print('', shape, '\\n', spacing, '\\n', origin, '\\n', nbl)"
   ]
  },
  {
   "cell_type": "code",
   "execution_count": null,
   "metadata": {
    "tags": []
   },
   "outputs": [],
   "source": [
    "model = examples.seismic.Model(\n",
    "    vp=v,\n",
    "    origin=origin,\n",
    "    shape=shape,\n",
    "    spacing=spacing,\n",
    "    space_order=space_order,\n",
    "    nbl=nbl, \n",
    "    bcs=bcs\n",
    ")\n",
    "res = plot_field(\n",
    "    model.damp,\n",
    "    z_positive_down=False\n",
    ");\n",
    "res['ax_xy'].scatter(\n",
    "    network['easting'], \n",
    "    network['northing'],\n",
    "    s=2,\n",
    "    linewidth=0\n",
    ")"
   ]
  },
  {
   "cell_type": "markdown",
   "metadata": {},
   "source": [
    "# Define the source"
   ]
  },
  {
   "cell_type": "code",
   "execution_count": null,
   "metadata": {
    "tags": []
   },
   "outputs": [],
   "source": [
    "t0         = 0.                                # Simulation start time (in ms).\n",
    "tn         = 1000.                              # Simulation duration (in ms).\n",
    "dt         = model.critical_dt                 # Simulation time step from model grid spacing.\n",
    "# src_coords = np.array([x_min+x_max, y_min+y_max, z_min+z_max])/2 # Source location coordinates\n",
    "src_coords = np.mean([[x_min, x_max], [y_min, y_max], [z_min, z_max]], axis=1)\n",
    "\n",
    "time_range = examples.seismic.TimeAxis(start=t0, stop=tn, step=dt)\n",
    "src = examples.seismic.RickerSource(\n",
    "    name='s', \n",
    "    grid=model.grid, \n",
    "    f0=f0*1e-3,\n",
    "    coordinates=src_coords,\n",
    "    time_range=time_range,\n",
    "    t0=t0+100\n",
    ")\n",
    "src.show()"
   ]
  },
  {
   "cell_type": "code",
   "execution_count": null,
   "metadata": {
    "tags": []
   },
   "outputs": [],
   "source": [
    "src_coords[0], src_coords[1], src_coords[2]"
   ]
  },
  {
   "cell_type": "markdown",
   "metadata": {},
   "source": [
    "# Define the receiver geometry"
   ]
  },
  {
   "cell_type": "code",
   "execution_count": null,
   "metadata": {
    "tags": []
   },
   "outputs": [],
   "source": [
    "#NBVAL_IGNORE_OUTPUT\n",
    "from devito import ConditionalDimension, TimeFunction, Eq, solve, Operator\n",
    "\n",
    "nt = time_range.num\n",
    "\n",
    "nsnaps = 16            # desired number of equally spaced snaps\n",
    "factor = round(time_range.num / nsnaps)  # subsequent calculated factor\n",
    "\n",
    "time_subsampled = ConditionalDimension(\n",
    "    't_sub', \n",
    "    parent=model.grid.time_dim, \n",
    "    factor=factor\n",
    ")\n",
    "usave = TimeFunction(\n",
    "    name='usave', \n",
    "    grid=model.grid, \n",
    "    time_order=2, \n",
    "    space_order=2,\n",
    "    save=(time_range.num + factor - 1) // factor, \n",
    "    time_dim=time_subsampled\n",
    ")\n",
    "\n",
    "u = TimeFunction(\n",
    "    name='u', \n",
    "    grid=model.grid, \n",
    "    time_order=time_order, \n",
    "    space_order=space_order\n",
    ")\n",
    "\n",
    "pde = model.m * u.dt2 - u.laplace + model.damp * u.dt\n",
    "stencil = Eq(u.forward, solve(pde, u.forward))\n",
    "src_term = src.inject(\n",
    "    field=u.forward,\n",
    "    expr=src * dt**2 / model.m,\n",
    "    # offset=model.nbl\n",
    ")\n",
    "\n",
    "# Create symbol for 101 receivers\n",
    "rec = examples.seismic.Receiver(\n",
    "    name='r', \n",
    "    grid=model.grid,\n",
    "    coordinates=network[['easting', 'northing', 'z']].values,\n",
    "    time_range=time_range\n",
    ")\n",
    "rec_term = rec.interpolate(\n",
    "    expr=u, \n",
    "    # offset=model.nbl\n",
    ")\n",
    "\n",
    "op = Operator([stencil] + src_term + rec_term + [Eq(usave, u)],\n",
    "               subs=model.spacing_map)  # operator with snapshots\n",
    "\n",
    "op(time=nt-1, dt=model.critical_dt)"
   ]
  },
  {
   "cell_type": "code",
   "execution_count": null,
   "metadata": {
    "tags": []
   },
   "outputs": [],
   "source": [
    "amax = np.max(np.abs(rec.data))\n",
    "\n",
    "plt.close('all')\n",
    "fig, ax = plt.subplots()\n",
    "ax.pcolorfast(\n",
    "    rec.data, \n",
    "    cmap=plt.get_cmap('seismic'), \n",
    "    vmin=-amax,\n",
    "    vmax=amax\n",
    ")\n",
    "ax.invert_yaxis()\n",
    "# ax.p(rec.time_values, rec.data[:, 500])"
   ]
  },
  {
   "cell_type": "code",
   "execution_count": null,
   "metadata": {
    "tags": []
   },
   "outputs": [],
   "source": [
    "plot_field(usave, src_coords=src_coords, it=9, z_positive_down=False)"
   ]
  },
  {
   "cell_type": "code",
   "execution_count": null,
   "metadata": {
    "tags": []
   },
   "outputs": [],
   "source": [
    "network = pd.read_hdf('../data/network.hdf5')\n",
    "network = network.drop_duplicates(subset=['network', 'station'])\n",
    "network['z'] = network['elevation'] - network['depth']\n",
    "\n",
    "with hdf5eis.File(f'../data/test-{f0}Hz.hdf5', mode='w', overwrite=True) as out_file:\n",
    "    out_file.timeseries.add(rec.data.T, 0, 1/(time_range.step*1e-3), tag='synthetic/raw')\n",
    "    out_file.metadata.add_table(network, key='network')"
   ]
  },
  {
   "cell_type": "code",
   "execution_count": null,
   "metadata": {
    "tags": []
   },
   "outputs": [],
   "source": [
    "tag = 'synthetic/raw'\n",
    "with hdf5eis.File(f'../data/test-{f0}Hz.hdf5', mode='r') as in_file:\n",
    "    index = in_file.timeseries.index\n",
    "    super_gather = in_file.timeseries[tag, ..., 0:1e9]\n",
    "    \n",
    "gather = super_gather[tag][0]\n",
    "    \n",
    "plt.close('all')\n",
    "fig, ax = plt.subplots()\n",
    "ax.plot(np.arange(len(gather.data[0]))/gather.sampling_rate, gather.data[0])"
   ]
  },
  {
   "cell_type": "code",
   "execution_count": null,
   "metadata": {},
   "outputs": [],
   "source": [
    "index"
   ]
  },
  {
   "cell_type": "code",
   "execution_count": null,
   "metadata": {},
   "outputs": [],
   "source": [
    "151059 / 377647.5"
   ]
  },
  {
   "cell_type": "code",
   "execution_count": null,
   "metadata": {},
   "outputs": [],
   "source": [
    "gather.data[0]"
   ]
  },
  {
   "cell_type": "code",
   "execution_count": null,
   "metadata": {},
   "outputs": [],
   "source": [
    "new_sampling_rate = 500\n",
    "\n",
    "X, t = scipy.signal.resample(rec.data, int(new_sampling_rate *(tn-t0)*1e-3), t=time_range.time_values*1e-3)"
   ]
  },
  {
   "cell_type": "code",
   "execution_count": null,
   "metadata": {},
   "outputs": [],
   "source": [
    "rec.data.shape"
   ]
  },
  {
   "cell_type": "code",
   "execution_count": null,
   "metadata": {},
   "outputs": [],
   "source": [
    "1 / rec.time_range.step"
   ]
  },
  {
   "cell_type": "code",
   "execution_count": null,
   "metadata": {},
   "outputs": [],
   "source": []
  },
  {
   "cell_type": "code",
   "execution_count": null,
   "metadata": {},
   "outputs": [],
   "source": [
    "model.grid.shape"
   ]
  },
  {
   "cell_type": "code",
   "execution_count": null,
   "metadata": {},
   "outputs": [],
   "source": [
    "model.grid.origin"
   ]
  },
  {
   "cell_type": "code",
   "execution_count": null,
   "metadata": {},
   "outputs": [],
   "source": [
    "src_coords"
   ]
  },
  {
   "cell_type": "code",
   "execution_count": null,
   "metadata": {},
   "outputs": [],
   "source": [
    "network = network.drop_duplicates(subset=['network', 'station'])"
   ]
  },
  {
   "cell_type": "markdown",
   "metadata": {},
   "source": [
    "# Now do reverse time migration"
   ]
  },
  {
   "cell_type": "code",
   "execution_count": null,
   "metadata": {},
   "outputs": [],
   "source": [
    "IRXS = range(0, rec.npoint, 32)"
   ]
  },
  {
   "cell_type": "code",
   "execution_count": null,
   "metadata": {},
   "outputs": [],
   "source": [
    "Ws         = dict() # Reverse-time migrated wavefield for each station\n",
    "kernels    = dict() # Computational kernel for each wavefield extrapolation problem\n",
    "\n",
    "for irx in IRXS:\n",
    "    handle = f\"{irx:03d}\"\n",
    "    W = devito.TimeFunction(\n",
    "        name=f\"W_{handle}\", \n",
    "        grid=model.grid, \n",
    "        time_order=2,\n",
    "        space_order=2\n",
    "    )\n",
    "    Ws[irx] = W\n",
    "    \n",
    "    pde = model.m * W.dt2 - W.laplace + model.damp * W.dt \n",
    "    \n",
    "    stencil = devito.Eq(W.forward, devito.solve(pde, W.forward))\n",
    "    \n",
    "    rsrc = examples.seismic.PointSource(\n",
    "        name=f\"X_{handle}\",\n",
    "        grid=model.grid,\n",
    "        time_range=time_range,\n",
    "        npoint=1,\n",
    "        coordinates=rec.coordinates_data[irx],\n",
    "        space_order=2,\n",
    "        time_order=2\n",
    "    )\n",
    "    # rsrc.data[:] = rec_a.data[-1::-1, [irx]]\n",
    "    # rsrc.data[:] = rec_b.data[-1::-1, [irx]]\n",
    "    rsrc.data[:] = (rec_b.data[-1::-1, [irx]]+4*np.random.randn(*rsrc.data.shape)) - (rec_a.data[-1::-1, [irx]]+4*np.random.randn(*rsrc.data.shape))\n",
    "    # rsrc.data[:] += 4*np.random.randn(*rsrc.data.shape)\n",
    "    rsrc_term    = rsrc.inject(field=W.forward, expr=rsrc * dt**2 / model.m)\n",
    "    \n",
    "    kernels[irx] = [stencil, rsrc_term]\n",
    "    \n",
    "image = devito.Function(\n",
    "    name=f\"Im\", \n",
    "    grid=model.grid\n",
    ")"
   ]
  },
  {
   "cell_type": "code",
   "execution_count": null,
   "metadata": {},
   "outputs": [],
   "source": [
    "%%time\n",
    "imaging_kernel = devito.Eq(image, (image + np.prod([w for w in Ws.values()])))\n",
    "\n",
    "op = devito.Operator(\n",
    "    [eq for kernel in kernels.values() for eq in kernel] + [imaging_kernel], \n",
    "    subs=model.spacing_map\n",
    ")\n",
    "op(dt=model.critical_dt);"
   ]
  },
  {
   "cell_type": "code",
   "execution_count": null,
   "metadata": {},
   "outputs": [],
   "source": [
    "image_b = image.data.copy()"
   ]
  },
  {
   "cell_type": "code",
   "execution_count": null,
   "metadata": {},
   "outputs": [],
   "source": [
    "plt.close(\"all\")\n",
    "# ax, kw = plot_field((image_a.T+image_b.T)/2, model.grid, nbl=model.nbl)\n",
    "# ax0, kw = plot_field(image_a.T, model.grid, nbl=model.nbl)\n",
    "# ax1, kw = plot_field(image_b.T, model.grid, nbl=model.nbl)\n",
    "ax, kw = plot_field(image.data.T, model.grid, nbl=model.nbl)\n",
    "\n",
    "for src in (src_a, src_b):\n",
    "    ax.scatter(\n",
    "        src.coordinates_data[:, 0],\n",
    "        src.coordinates_data[:, 1],\n",
    "        edgecolor=\"k\"\n",
    "    )\n",
    "# plot_field(Ws[irx].data[-1].T, model.grid);"
   ]
  },
  {
   "cell_type": "code",
   "execution_count": null,
   "metadata": {},
   "outputs": [],
   "source": [
    "plt.close(\"all\")\n",
    "ax, kw = plot_field(image.data.T, model.grid, nbl=model.nbl)\n",
    "ax.scatter(\n",
    "    src.coordinates_data[:, 0],\n",
    "    src.coordinates_data[:, 1],\n",
    "    color=\"tab:red\",\n",
    "    edgecolor=\"k\"\n",
    ")"
   ]
  }
 ],
 "metadata": {
  "hide_input": false,
  "kernelspec": {
   "display_name": "Python 3 (ipykernel)",
   "language": "python",
   "name": "python3"
  },
  "language_info": {
   "codemirror_mode": {
    "name": "ipython",
    "version": 3
   },
   "file_extension": ".py",
   "mimetype": "text/x-python",
   "name": "python",
   "nbconvert_exporter": "python",
   "pygments_lexer": "ipython3",
   "version": "3.9.16"
  },
  "latex_envs": {
   "LaTeX_envs_menu_present": true,
   "autoclose": false,
   "autocomplete": true,
   "bibliofile": "biblio.bib",
   "cite_by": "apalike",
   "current_citInitial": 1,
   "eqLabelWithNumbers": true,
   "eqNumInitial": 1,
   "hotkeys": {
    "equation": "Ctrl-E",
    "itemize": "Ctrl-I"
   },
   "labels_anchors": false,
   "latex_user_defs": false,
   "report_style_numbering": false,
   "user_envs_cfg": false
  },
  "widgets": {
   "state": {},
   "version": "1.1.2"
  }
 },
 "nbformat": 4,
 "nbformat_minor": 4
}
